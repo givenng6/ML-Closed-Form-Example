{
 "cells": [
  {
   "cell_type": "code",
   "execution_count": 129,
   "id": "c082c7b5",
   "metadata": {},
   "outputs": [],
   "source": [
    "import numpy as np\n",
    "from numpy.linalg import inv"
   ]
  },
  {
   "cell_type": "code",
   "execution_count": 130,
   "id": "f22f7d2b",
   "metadata": {},
   "outputs": [],
   "source": [
    "y = np.array([[1.1], [-0.7], [-2.6], [-3.7], [-2.9], [1]])\n",
    "xt = np.array([[1, 1, 1, 1, 1, 1], [0, 1, 2, 3, 4, 5], [0, 1, 4, 9, 16, 25], [0, 1, 8, 27, 64, 124]])\n",
    "x = xt.transpose()\n",
    "temp = np.dot(inv(np.dot(xt, x)), xt)\n",
    "theta = np.dot(temp, y)"
   ]
  },
  {
   "cell_type": "code",
   "execution_count": 131,
   "id": "d716b32c",
   "metadata": {},
   "outputs": [
    {
     "name": "stdout",
     "output_type": "stream",
     "text": [
      "[[ 1.08381114]\n",
      " [-1.23704216]\n",
      " [-0.68459316]\n",
      " [ 0.18707763]]\n"
     ]
    }
   ],
   "source": [
    "print(theta)"
   ]
  },
  {
   "cell_type": "code",
   "execution_count": null,
   "id": "1472f636",
   "metadata": {},
   "outputs": [],
   "source": []
  },
  {
   "cell_type": "code",
   "execution_count": null,
   "id": "aa5a74e3",
   "metadata": {},
   "outputs": [],
   "source": []
  },
  {
   "cell_type": "code",
   "execution_count": null,
   "id": "d3745f0a",
   "metadata": {},
   "outputs": [],
   "source": []
  }
 ],
 "metadata": {
  "kernelspec": {
   "display_name": "Python 3 (ipykernel)",
   "language": "python",
   "name": "python3"
  },
  "language_info": {
   "codemirror_mode": {
    "name": "ipython",
    "version": 3
   },
   "file_extension": ".py",
   "mimetype": "text/x-python",
   "name": "python",
   "nbconvert_exporter": "python",
   "pygments_lexer": "ipython3",
   "version": "3.9.12"
  }
 },
 "nbformat": 4,
 "nbformat_minor": 5
}
