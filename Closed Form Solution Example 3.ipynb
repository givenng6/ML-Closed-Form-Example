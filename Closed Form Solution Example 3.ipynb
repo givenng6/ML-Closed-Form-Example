{
 "cells": [
  {
   "cell_type": "code",
   "execution_count": 1,
   "id": "4f4e9349",
   "metadata": {},
   "outputs": [],
   "source": [
    "import numpy as np\n",
    "from numpy.linalg import inv"
   ]
  },
  {
   "cell_type": "code",
   "execution_count": 3,
   "id": "60d432ab",
   "metadata": {},
   "outputs": [],
   "source": [
    "y = np.array([[2], [5], [8], [14], [23]])\n",
    "xt = np.array([ [1, 1, 1, 1, 1], [2, 4, 6, 8, 10]])\n",
    "x = xt.transpose()\n",
    "temp = np.dot(inv(np.dot(xt, x)), xt)\n",
    "theta = np.dot(temp, y)"
   ]
  },
  {
   "cell_type": "code",
   "execution_count": 4,
   "id": "8841e46c",
   "metadata": {},
   "outputs": [
    {
     "name": "stdout",
     "output_type": "stream",
     "text": [
      "[[-4.9 ]\n",
      " [ 2.55]]\n"
     ]
    }
   ],
   "source": [
    "print(theta)"
   ]
  },
  {
   "cell_type": "code",
   "execution_count": null,
   "id": "8f7325d1",
   "metadata": {},
   "outputs": [],
   "source": []
  }
 ],
 "metadata": {
  "kernelspec": {
   "display_name": "Python 3 (ipykernel)",
   "language": "python",
   "name": "python3"
  },
  "language_info": {
   "codemirror_mode": {
    "name": "ipython",
    "version": 3
   },
   "file_extension": ".py",
   "mimetype": "text/x-python",
   "name": "python",
   "nbconvert_exporter": "python",
   "pygments_lexer": "ipython3",
   "version": "3.9.12"
  }
 },
 "nbformat": 4,
 "nbformat_minor": 5
}
